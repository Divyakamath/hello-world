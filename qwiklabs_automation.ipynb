{
  "cells": [
    {
      "metadata": {
        "trusted": false
      },
      "cell_type": "code",
      "source": "import pandas as pd\nimport requests",
      "execution_count": 44,
      "outputs": []
    },
    {
      "metadata": {
        "trusted": false
      },
      "cell_type": "code",
      "source": "from selenium import webdriver",
      "execution_count": 18,
      "outputs": []
    },
    {
      "metadata": {
        "trusted": false
      },
      "cell_type": "code",
      "source": "browser = webdriver.Chrome(executable_path=\"/home/fractaluser/Divya/Qwiklabs/chromedriver\")",
      "execution_count": 19,
      "outputs": []
    },
    {
      "metadata": {
        "trusted": false
      },
      "cell_type": "code",
      "source": "browser.get(\"https://www.qwiklabs.com/users/sign_in\")",
      "execution_count": 25,
      "outputs": []
    },
    {
      "metadata": {
        "trusted": false
      },
      "cell_type": "code",
      "source": "user_name = browser.find_element_by_id(\"user_email\")\nuser_name.send_keys(\"divya.kamath@fractal.ai\")\npwd = browser.find_element_by_id(\"user_password\")\npwd.send_keys(\"Fractal#4567\") ",
      "execution_count": 26,
      "outputs": [
        {
          "ename": "NoSuchElementException",
          "evalue": "Message: no such element: Unable to locate element: {\"method\":\"css selector\",\"selector\":\"[id=\"user_email\"]\"}\n  (Session info: chrome=78.0.3904.97)\n",
          "output_type": "error",
          "traceback": [
            "\u001b[0;31m---------------------------------------------------------------------------\u001b[0m",
            "\u001b[0;31mNoSuchElementException\u001b[0m                    Traceback (most recent call last)",
            "\u001b[0;32m<ipython-input-26-69cea8572dee>\u001b[0m in \u001b[0;36m<module>\u001b[0;34m\u001b[0m\n\u001b[0;32m----> 1\u001b[0;31m \u001b[0muser_name\u001b[0m \u001b[0;34m=\u001b[0m \u001b[0mbrowser\u001b[0m\u001b[0;34m.\u001b[0m\u001b[0mfind_element_by_id\u001b[0m\u001b[0;34m(\u001b[0m\u001b[0;34m\"user_email\"\u001b[0m\u001b[0;34m)\u001b[0m\u001b[0;34m\u001b[0m\u001b[0;34m\u001b[0m\u001b[0m\n\u001b[0m\u001b[1;32m      2\u001b[0m \u001b[0muser_name\u001b[0m\u001b[0;34m.\u001b[0m\u001b[0msend_keys\u001b[0m\u001b[0;34m(\u001b[0m\u001b[0;34m\"divya.kamath@fractal.ai\"\u001b[0m\u001b[0;34m)\u001b[0m\u001b[0;34m\u001b[0m\u001b[0;34m\u001b[0m\u001b[0m\n\u001b[1;32m      3\u001b[0m \u001b[0mpwd\u001b[0m \u001b[0;34m=\u001b[0m \u001b[0mbrowser\u001b[0m\u001b[0;34m.\u001b[0m\u001b[0mfind_element_by_id\u001b[0m\u001b[0;34m(\u001b[0m\u001b[0;34m\"user_password\"\u001b[0m\u001b[0;34m)\u001b[0m\u001b[0;34m\u001b[0m\u001b[0;34m\u001b[0m\u001b[0m\n\u001b[1;32m      4\u001b[0m \u001b[0mpwd\u001b[0m\u001b[0;34m.\u001b[0m\u001b[0msend_keys\u001b[0m\u001b[0;34m(\u001b[0m\u001b[0;34m\"Fractal#4567\"\u001b[0m\u001b[0;34m)\u001b[0m\u001b[0;34m\u001b[0m\u001b[0;34m\u001b[0m\u001b[0m\n",
            "\u001b[0;32m~/python/lib/python3.7/site-packages/selenium/webdriver/remote/webdriver.py\u001b[0m in \u001b[0;36mfind_element_by_id\u001b[0;34m(self, id_)\u001b[0m\n\u001b[1;32m    358\u001b[0m             \u001b[0melement\u001b[0m \u001b[0;34m=\u001b[0m \u001b[0mdriver\u001b[0m\u001b[0;34m.\u001b[0m\u001b[0mfind_element_by_id\u001b[0m\u001b[0;34m(\u001b[0m\u001b[0;34m'foo'\u001b[0m\u001b[0;34m)\u001b[0m\u001b[0;34m\u001b[0m\u001b[0;34m\u001b[0m\u001b[0m\n\u001b[1;32m    359\u001b[0m         \"\"\"\n\u001b[0;32m--> 360\u001b[0;31m         \u001b[0;32mreturn\u001b[0m \u001b[0mself\u001b[0m\u001b[0;34m.\u001b[0m\u001b[0mfind_element\u001b[0m\u001b[0;34m(\u001b[0m\u001b[0mby\u001b[0m\u001b[0;34m=\u001b[0m\u001b[0mBy\u001b[0m\u001b[0;34m.\u001b[0m\u001b[0mID\u001b[0m\u001b[0;34m,\u001b[0m \u001b[0mvalue\u001b[0m\u001b[0;34m=\u001b[0m\u001b[0mid_\u001b[0m\u001b[0;34m)\u001b[0m\u001b[0;34m\u001b[0m\u001b[0;34m\u001b[0m\u001b[0m\n\u001b[0m\u001b[1;32m    361\u001b[0m \u001b[0;34m\u001b[0m\u001b[0m\n\u001b[1;32m    362\u001b[0m     \u001b[0;32mdef\u001b[0m \u001b[0mfind_elements_by_id\u001b[0m\u001b[0;34m(\u001b[0m\u001b[0mself\u001b[0m\u001b[0;34m,\u001b[0m \u001b[0mid_\u001b[0m\u001b[0;34m)\u001b[0m\u001b[0;34m:\u001b[0m\u001b[0;34m\u001b[0m\u001b[0;34m\u001b[0m\u001b[0m\n",
            "\u001b[0;32m~/python/lib/python3.7/site-packages/selenium/webdriver/remote/webdriver.py\u001b[0m in \u001b[0;36mfind_element\u001b[0;34m(self, by, value)\u001b[0m\n\u001b[1;32m    976\u001b[0m         return self.execute(Command.FIND_ELEMENT, {\n\u001b[1;32m    977\u001b[0m             \u001b[0;34m'using'\u001b[0m\u001b[0;34m:\u001b[0m \u001b[0mby\u001b[0m\u001b[0;34m,\u001b[0m\u001b[0;34m\u001b[0m\u001b[0;34m\u001b[0m\u001b[0m\n\u001b[0;32m--> 978\u001b[0;31m             'value': value})['value']\n\u001b[0m\u001b[1;32m    979\u001b[0m \u001b[0;34m\u001b[0m\u001b[0m\n\u001b[1;32m    980\u001b[0m     \u001b[0;32mdef\u001b[0m \u001b[0mfind_elements\u001b[0m\u001b[0;34m(\u001b[0m\u001b[0mself\u001b[0m\u001b[0;34m,\u001b[0m \u001b[0mby\u001b[0m\u001b[0;34m=\u001b[0m\u001b[0mBy\u001b[0m\u001b[0;34m.\u001b[0m\u001b[0mID\u001b[0m\u001b[0;34m,\u001b[0m \u001b[0mvalue\u001b[0m\u001b[0;34m=\u001b[0m\u001b[0;32mNone\u001b[0m\u001b[0;34m)\u001b[0m\u001b[0;34m:\u001b[0m\u001b[0;34m\u001b[0m\u001b[0;34m\u001b[0m\u001b[0m\n",
            "\u001b[0;32m~/python/lib/python3.7/site-packages/selenium/webdriver/remote/webdriver.py\u001b[0m in \u001b[0;36mexecute\u001b[0;34m(self, driver_command, params)\u001b[0m\n\u001b[1;32m    319\u001b[0m         \u001b[0mresponse\u001b[0m \u001b[0;34m=\u001b[0m \u001b[0mself\u001b[0m\u001b[0;34m.\u001b[0m\u001b[0mcommand_executor\u001b[0m\u001b[0;34m.\u001b[0m\u001b[0mexecute\u001b[0m\u001b[0;34m(\u001b[0m\u001b[0mdriver_command\u001b[0m\u001b[0;34m,\u001b[0m \u001b[0mparams\u001b[0m\u001b[0;34m)\u001b[0m\u001b[0;34m\u001b[0m\u001b[0;34m\u001b[0m\u001b[0m\n\u001b[1;32m    320\u001b[0m         \u001b[0;32mif\u001b[0m \u001b[0mresponse\u001b[0m\u001b[0;34m:\u001b[0m\u001b[0;34m\u001b[0m\u001b[0;34m\u001b[0m\u001b[0m\n\u001b[0;32m--> 321\u001b[0;31m             \u001b[0mself\u001b[0m\u001b[0;34m.\u001b[0m\u001b[0merror_handler\u001b[0m\u001b[0;34m.\u001b[0m\u001b[0mcheck_response\u001b[0m\u001b[0;34m(\u001b[0m\u001b[0mresponse\u001b[0m\u001b[0;34m)\u001b[0m\u001b[0;34m\u001b[0m\u001b[0;34m\u001b[0m\u001b[0m\n\u001b[0m\u001b[1;32m    322\u001b[0m             response['value'] = self._unwrap_value(\n\u001b[1;32m    323\u001b[0m                 response.get('value', None))\n",
            "\u001b[0;32m~/python/lib/python3.7/site-packages/selenium/webdriver/remote/errorhandler.py\u001b[0m in \u001b[0;36mcheck_response\u001b[0;34m(self, response)\u001b[0m\n\u001b[1;32m    240\u001b[0m                 \u001b[0malert_text\u001b[0m \u001b[0;34m=\u001b[0m \u001b[0mvalue\u001b[0m\u001b[0;34m[\u001b[0m\u001b[0;34m'alert'\u001b[0m\u001b[0;34m]\u001b[0m\u001b[0;34m.\u001b[0m\u001b[0mget\u001b[0m\u001b[0;34m(\u001b[0m\u001b[0;34m'text'\u001b[0m\u001b[0;34m)\u001b[0m\u001b[0;34m\u001b[0m\u001b[0;34m\u001b[0m\u001b[0m\n\u001b[1;32m    241\u001b[0m             \u001b[0;32mraise\u001b[0m \u001b[0mexception_class\u001b[0m\u001b[0;34m(\u001b[0m\u001b[0mmessage\u001b[0m\u001b[0;34m,\u001b[0m \u001b[0mscreen\u001b[0m\u001b[0;34m,\u001b[0m \u001b[0mstacktrace\u001b[0m\u001b[0;34m,\u001b[0m \u001b[0malert_text\u001b[0m\u001b[0;34m)\u001b[0m\u001b[0;34m\u001b[0m\u001b[0;34m\u001b[0m\u001b[0m\n\u001b[0;32m--> 242\u001b[0;31m         \u001b[0;32mraise\u001b[0m \u001b[0mexception_class\u001b[0m\u001b[0;34m(\u001b[0m\u001b[0mmessage\u001b[0m\u001b[0;34m,\u001b[0m \u001b[0mscreen\u001b[0m\u001b[0;34m,\u001b[0m \u001b[0mstacktrace\u001b[0m\u001b[0;34m)\u001b[0m\u001b[0;34m\u001b[0m\u001b[0;34m\u001b[0m\u001b[0m\n\u001b[0m\u001b[1;32m    243\u001b[0m \u001b[0;34m\u001b[0m\u001b[0m\n\u001b[1;32m    244\u001b[0m     \u001b[0;32mdef\u001b[0m \u001b[0m_value_or_default\u001b[0m\u001b[0;34m(\u001b[0m\u001b[0mself\u001b[0m\u001b[0;34m,\u001b[0m \u001b[0mobj\u001b[0m\u001b[0;34m,\u001b[0m \u001b[0mkey\u001b[0m\u001b[0;34m,\u001b[0m \u001b[0mdefault\u001b[0m\u001b[0;34m)\u001b[0m\u001b[0;34m:\u001b[0m\u001b[0;34m\u001b[0m\u001b[0;34m\u001b[0m\u001b[0m\n",
            "\u001b[0;31mNoSuchElementException\u001b[0m: Message: no such element: Unable to locate element: {\"method\":\"css selector\",\"selector\":\"[id=\"user_email\"]\"}\n  (Session info: chrome=78.0.3904.97)\n"
          ]
        }
      ]
    },
    {
      "metadata": {
        "trusted": false
      },
      "cell_type": "code",
      "source": "submit_btn = browser.find_element_by_name('commit')\nsubmit_btn.submit()",
      "execution_count": 24,
      "outputs": []
    },
    {
      "metadata": {
        "trusted": false
      },
      "cell_type": "code",
      "source": "browser.get(\"https://www.qwiklabs.com/my_account/token_allocation_groups/new\")",
      "execution_count": 22,
      "outputs": []
    },
    {
      "metadata": {
        "trusted": false
      },
      "cell_type": "code",
      "source": "",
      "execution_count": null,
      "outputs": []
    },
    {
      "metadata": {
        "trusted": false
      },
      "cell_type": "code",
      "source": "group_name = browser.find_element_by_id(\"token_allocation_group_name\")\ngroup_name.send_keys(\"mytestbott\")",
      "execution_count": 39,
      "outputs": []
    },
    {
      "metadata": {
        "trusted": false
      },
      "cell_type": "code",
      "source": "description = browser.find_element_by_id(\"token_allocation_group_description\")\ndescription.send_keys(\"testing bot\")",
      "execution_count": 8,
      "outputs": []
    },
    {
      "metadata": {
        "trusted": false
      },
      "cell_type": "code",
      "source": "submit_btn = browser.find_element_by_name('commit')\nsubmit_btn.submit()",
      "execution_count": 9,
      "outputs": []
    },
    {
      "metadata": {
        "trusted": false
      },
      "cell_type": "code",
      "source": "browser.get(\"https://www.qwiklabs.com/my_account/token_allocation_groups/32490/manage\")",
      "execution_count": 128,
      "outputs": []
    },
    {
      "metadata": {
        "trusted": false
      },
      "cell_type": "code",
      "source": "email_list = pd.read_csv(\"email.csv\")",
      "execution_count": 103,
      "outputs": []
    },
    {
      "metadata": {
        "trusted": false
      },
      "cell_type": "code",
      "source": "email_list[\"email\"][0]",
      "execution_count": 100,
      "outputs": [
        {
          "data": {
            "text/plain": "'divya.kamath@fractal.ai'"
          },
          "execution_count": 100,
          "metadata": {},
          "output_type": "execute_result"
        }
      ]
    },
    {
      "metadata": {
        "trusted": false
      },
      "cell_type": "code",
      "source": "eid = 1\n#email_list[\"email\"][eid]",
      "execution_count": 69,
      "outputs": []
    },
    {
      "metadata": {
        "trusted": false
      },
      "cell_type": "code",
      "source": "\n",
      "execution_count": null,
      "outputs": []
    },
    {
      "metadata": {
        "trusted": false
      },
      "cell_type": "code",
      "source": "for i in range(len(email_list)):\n    #print(email_list[\"email\"][i])\n    browser.get(\"https://www.qwiklabs.com/my_account/token_allocation_groups/new\")\n    browser.find_element_by_id(\"token_allocation_group_name\").send_keys(email_list[\"email\"][i])\n    browser.find_element_by_id(\"token_allocation_group_description\").send_keys(\"qwiklabs challenge\")\n    browser.find_element_by_name('commit').submit()",
      "execution_count": 127,
      "outputs": [
        {
          "name": "stdout",
          "output_type": "stream",
          "text": "0\n1\n"
        }
      ]
    },
    {
      "metadata": {
        "trusted": false
      },
      "cell_type": "code",
      "source": "print(i)",
      "execution_count": 125,
      "outputs": [
        {
          "name": "stdout",
          "output_type": "stream",
          "text": "1\n"
        }
      ]
    },
    {
      "metadata": {
        "trusted": false
      },
      "cell_type": "code",
      "source": "",
      "execution_count": null,
      "outputs": []
    },
    {
      "metadata": {
        "trusted": false
      },
      "cell_type": "code",
      "source": "emailid = browser.find_element_by_id(\"token_allocation_group_filter_ids\").send_keys(\"amit.choudhary2@fractal.ai\")",
      "execution_count": 129,
      "outputs": []
    },
    {
      "metadata": {
        "trusted": false
      },
      "cell_type": "code",
      "source": "browser.find_elements_by_name('commit')[1].submit()",
      "execution_count": 42,
      "outputs": []
    },
    {
      "metadata": {
        "trusted": false
      },
      "cell_type": "code",
      "source": "add_email",
      "execution_count": 36,
      "outputs": [
        {
          "data": {
            "text/plain": "[<selenium.webdriver.remote.webelement.WebElement (session=\"98f67e4cbd1aae196c35db0c353b11c7\", element=\"77d9d93e-9b21-41f2-83cf-dd918c7dbb18\")>,\n <selenium.webdriver.remote.webelement.WebElement (session=\"98f67e4cbd1aae196c35db0c353b11c7\", element=\"9cfbadfb-5095-4c0a-a648-bbe170f0ff40\")>,\n <selenium.webdriver.remote.webelement.WebElement (session=\"98f67e4cbd1aae196c35db0c353b11c7\", element=\"e8886b55-a925-47c4-bdec-310d2283b1f9\")>]"
          },
          "execution_count": 36,
          "metadata": {},
          "output_type": "execute_result"
        }
      ]
    },
    {
      "metadata": {
        "trusted": false
      },
      "cell_type": "code",
      "source": "from bs4 import BeautifulSoup\n#import urllib3\nhttp = urllib3.PoolManager( cert_reqs='CERT_REQUIRED')\nhtml_page = http.request('GET', 'https://www.qwiklabs.com/my_account/token_allocation_groups') \n#html_page = urllib3.request.(\"https://www.qwiklabs.com/my_account/token_allocation_groups\")\nsoup = BeautifulSoup(html_page)\nfor link in soup.findAll('a'):\n    print(link.get('href'))",
      "execution_count": null,
      "outputs": []
    },
    {
      "metadata": {
        "trusted": false
      },
      "cell_type": "code",
      "source": "html_page",
      "execution_count": 6,
      "outputs": [
        {
          "data": {
            "text/plain": "<Response [200]>"
          },
          "execution_count": 6,
          "metadata": {},
          "output_type": "execute_result"
        }
      ]
    },
    {
      "metadata": {
        "trusted": false
      },
      "cell_type": "code",
      "source": "browser.get(\"https://www.qwiklabs.com/my_account/token_allocation_groups\")",
      "execution_count": 27,
      "outputs": []
    },
    {
      "metadata": {
        "trusted": false
      },
      "cell_type": "code",
      "source": "elems = browser.find_elements_by_xpath(\"//a[@href]\")\nfor elem in elems:\n    elem.get_attribute(\"href\")",
      "execution_count": 33,
      "outputs": [
        {
          "name": "stdout",
          "output_type": "stream",
          "text": "https://www.qwiklabs.com/my_account/profile\nhttps://www.qwiklabs.com/my_account/credits\nhttps://www.qwiklabs.com/users/sign_out\nhttps://www.qwiklabs.com/\nhttps://www.qwiklabs.com/catalog\nhttps://www.qwiklabs.com/my_learning\nhttps://www.qwiklabs.com/\nhttps://www.qwiklabs.com/catalog\nhttps://www.qwiklabs.com/my_learning\nhttps://www.qwiklabs.com/my_account/profile\nhttps://www.qwiklabs.com/my_account/credits\nhttps://www.qwiklabs.com/my_account/security\nhttps://www.qwiklabs.com/my_account/token_allocation_groups#\nhttps://www.qwiklabs.com/privacy_policy\nhttps://www.qwiklabs.com/terms_of_service\nhttps://www.qwiklabs.com/my_account/credits\nhttps://www.qwiklabs.com/my_account/profile\nhttps://www.qwiklabs.com/my_account/security\nhttps://www.qwiklabs.com/my_account/token_allocation_groups/reports.csv\nhttps://www.qwiklabs.com/my_account/token_allocation_groups/new\nhttps://www.qwiklabs.com/my_account/token_allocation_groups/32401/manage\nhttps://www.qwiklabs.com/my_account/token_allocation_groups/32401/report.csv\nhttps://www.qwiklabs.com/my_account/token_allocation_groups/32401/report\nhttps://www.qwiklabs.com/my_account/token_allocation_groups/32401/edit\nhttps://www.qwiklabs.com/my_account/token_allocation_groups/32401\nhttps://www.qwiklabs.com/my_account/token_allocation_groups/32402/manage\nhttps://www.qwiklabs.com/my_account/token_allocation_groups/32402/report.csv\nhttps://www.qwiklabs.com/my_account/token_allocation_groups/32402/report\nhttps://www.qwiklabs.com/my_account/token_allocation_groups/32402/edit\nhttps://www.qwiklabs.com/my_account/token_allocation_groups/32402\nhttps://www.qwiklabs.com/my_account/token_allocation_groups/32425/manage\nhttps://www.qwiklabs.com/my_account/token_allocation_groups/32425/report.csv\nhttps://www.qwiklabs.com/my_account/token_allocation_groups/32425/report\nhttps://www.qwiklabs.com/my_account/token_allocation_groups/32425/edit\nhttps://www.qwiklabs.com/my_account/token_allocation_groups/32425\nhttps://www.qwiklabs.com/my_account/token_allocation_groups/32427/manage\nhttps://www.qwiklabs.com/my_account/token_allocation_groups/32427/report.csv\nhttps://www.qwiklabs.com/my_account/token_allocation_groups/32427/report\nhttps://www.qwiklabs.com/my_account/token_allocation_groups/32427/edit\nhttps://www.qwiklabs.com/my_account/token_allocation_groups/32427\nhttps://www.qwiklabs.com/my_account/token_allocation_groups/32428/manage\nhttps://www.qwiklabs.com/my_account/token_allocation_groups/32428/report.csv\nhttps://www.qwiklabs.com/my_account/token_allocation_groups/32428/report\nhttps://www.qwiklabs.com/my_account/token_allocation_groups/32428/edit\nhttps://www.qwiklabs.com/my_account/token_allocation_groups/32428\nhttps://www.qwiklabs.com/my_account/token_allocation_groups/32430/manage\nhttps://www.qwiklabs.com/my_account/token_allocation_groups/32430/report.csv\nhttps://www.qwiklabs.com/my_account/token_allocation_groups/32430/report\nhttps://www.qwiklabs.com/my_account/token_allocation_groups/32430/edit\nhttps://www.qwiklabs.com/my_account/token_allocation_groups/32430\nhttps://www.qwiklabs.com/my_account/token_allocation_groups/32486/manage\nhttps://www.qwiklabs.com/my_account/token_allocation_groups/32486/report.csv\nhttps://www.qwiklabs.com/my_account/token_allocation_groups/32486/report\nhttps://www.qwiklabs.com/my_account/token_allocation_groups/32486/edit\nhttps://www.qwiklabs.com/my_account/token_allocation_groups/32486\nhttps://www.qwiklabs.com/my_account/token_allocation_groups/32490/manage\nhttps://www.qwiklabs.com/my_account/token_allocation_groups/32490/report.csv\nhttps://www.qwiklabs.com/my_account/token_allocation_groups/32490/report\nhttps://www.qwiklabs.com/my_account/token_allocation_groups/32490/edit\nhttps://www.qwiklabs.com/my_account/token_allocation_groups/32490\nhttps://www.qwiklabs.com/my_account/token_allocation_groups/32500/manage\nhttps://www.qwiklabs.com/my_account/token_allocation_groups/32500/report.csv\nhttps://www.qwiklabs.com/my_account/token_allocation_groups/32500/report\nhttps://www.qwiklabs.com/my_account/token_allocation_groups/32500/edit\nhttps://www.qwiklabs.com/my_account/token_allocation_groups/32500\nhttps://www.qwiklabs.com/my_account/token_allocation_groups/32501/manage\nhttps://www.qwiklabs.com/my_account/token_allocation_groups/32501/report.csv\nhttps://www.qwiklabs.com/my_account/token_allocation_groups/32501/report\nhttps://www.qwiklabs.com/my_account/token_allocation_groups/32501/edit\nhttps://www.qwiklabs.com/my_account/token_allocation_groups/32501\n"
        }
      ]
    },
    {
      "metadata": {
        "trusted": false
      },
      "cell_type": "code",
      "source": "li = [] \nfor i in test_list:\n    li = list(test_list.split()) \n    li.append(i)",
      "execution_count": 51,
      "outputs": []
    },
    {
      "metadata": {
        "trusted": false
      },
      "cell_type": "code",
      "source": "li",
      "execution_count": 43,
      "outputs": [
        {
          "data": {
            "text/plain": "['https://www.qwiklabs.com/my_account/token_allocation_groups/32501', '1']"
          },
          "execution_count": 43,
          "metadata": {},
          "output_type": "execute_result"
        }
      ]
    },
    {
      "metadata": {
        "trusted": false
      },
      "cell_type": "code",
      "source": "with open('csvfile.csv','w') as file:\n    for line in test_list:\n        file.write(line)\n        file.write('\\n')",
      "execution_count": 46,
      "outputs": []
    }
  ],
  "metadata": {
    "kernelspec": {
      "name": "python3",
      "display_name": "Python 3",
      "language": "python"
    },
    "language_info": {
      "mimetype": "text/x-python",
      "nbconvert_exporter": "python",
      "name": "python",
      "pygments_lexer": "ipython3",
      "version": "3.5.4",
      "file_extension": ".py",
      "codemirror_mode": {
        "version": 3,
        "name": "ipython"
      }
    }
  },
  "nbformat": 4,
  "nbformat_minor": 2
}